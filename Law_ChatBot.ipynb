{
  "cells": [
    {
      "cell_type": "code",
      "source": [
        "!pip install -qU pinecone-client langchain cohere PyPDF2\n",
        "!pip install openpyxl\n",
        "!pip install  pandas transformers\n",
        "!pip install -U langchain-community"
      ],
      "metadata": {
        "id": "gZaSNkoTsWy6"
      },
      "execution_count": null,
      "outputs": []
    },
    {
      "cell_type": "code",
      "execution_count": 2,
      "metadata": {
        "id": "ySxR_oYChGFl"
      },
      "outputs": [],
      "source": [
        "import pandas as pd\n",
        "import pinecone\n",
        "import cohere"
      ]
    },
    {
      "cell_type": "code",
      "execution_count": null,
      "metadata": {
        "id": "KxQ_PpAAhsD-"
      },
      "outputs": [],
      "source": [
        "#fais entrer le fichier _maajliss.xlsx\n",
        "from google.colab import files\n",
        "uploaded = files.upload()"
      ]
    },
    {
      "cell_type": "code",
      "execution_count": null,
      "metadata": {
        "id": "56fwcNpEhlx-"
      },
      "outputs": [],
      "source": [
        "# Charger les données\n",
        "file_path = \"_majliss_table_data_cleaned.xlsx\"\n",
        "data = pd.read_excel(file_path)"
      ]
    },
    {
      "cell_type": "code",
      "execution_count": null,
      "metadata": {
        "id": "H1SISeSDjaOL"
      },
      "outputs": [],
      "source": [
        "# Initialiser Cohere\n",
        "cohere_api_key = 'cohere_key' # remplace with cohere_key (elle est recupere du cohere)\n",
        "co = cohere.Client(cohere_api_key)"
      ]
    },
    {
      "cell_type": "code",
      "execution_count": null,
      "metadata": {
        "id": "T7gqtq_zkNmw"
      },
      "outputs": [],
      "source": [
        "# Fonction pour encoder les textes\n",
        "def encode_text(text):\n",
        "    response = co.embed(texts=[text], model='large')\n",
        "    return response.embeddings[0]\n"
      ]
    },
    {
      "cell_type": "code",
      "execution_count": null,
      "metadata": {
        "id": "jMJQeQzukWSL"
      },
      "outputs": [],
      "source": [
        "import pandas as pd\n",
        "from pinecone import Pinecone, ServerlessSpec\n",
        "from sklearn.feature_extraction.text import TfidfVectorizer\n",
        "from sklearn.decomposition import TruncatedSVD\n",
        "#Initialiser Pinecone\n",
        "pc = Pinecone(\n",
        "    api_key='Pinecone_key' # remplace with Pinecone_key (elle est recupere du Pinecone)\n",
        ")"
      ]
    },
    {
      "cell_type": "code",
      "execution_count": null,
      "metadata": {
        "id": "IrurCuP4mcIp"
      },
      "outputs": [],
      "source": [
        "# Configuration de l'index\n",
        "index_name = 'chatboteasylaw'\n",
        "if index_name not in pc.list_indexes().names():\n",
        "    pc.create_index(\n",
        "        name=index_name,\n",
        "        dimension=4096,\n",
        "        metric='cosine',\n",
        "        spec=ServerlessSpec(\n",
        "            cloud='aws',\n",
        "            region='us-east-1'\n",
        "        )\n",
        "    )\n"
      ]
    },
    {
      "cell_type": "code",
      "execution_count": null,
      "metadata": {
        "id": "NZIVfzwZnp5d"
      },
      "outputs": [],
      "source": [
        "# Accéder à l'index\n",
        "index = pc.Index(index_name)"
      ]
    },
    {
      "cell_type": "code",
      "execution_count": null,
      "metadata": {
        "id": "Xd5y1B6kn5Sx"
      },
      "outputs": [],
      "source": [
        "import time\n",
        "# Préparer les vecteurs\n",
        "vectors = []\n",
        "for idx, row in data.iterrows():\n",
        "    combined_text = \" \".join([str(row['المبدأ']), str(row['الموضوع']), str(row['التكييف']),\n",
        "                              str(row['تاريخ القرار']), str(row['القسم']), str(row['الغرفة']),\n",
        "                              str(row['رقم القرار'])])\n",
        "    try:\n",
        "        vector = encode_text(combined_text)\n",
        "        vectors.append((str(idx), vector))\n",
        "        time.sleep(1)  # Pause d'une seconde entre les requêtes pour éviter les limitations de taux\n",
        "    except cohere.error.CohereAPIError as e:\n",
        "        print(f\"Erreur lors de l'encodage du texte à l'index {idx}: {e}\")\n",
        "        break"
      ]
    },
    {
      "cell_type": "code",
      "execution_count": null,
      "metadata": {
        "id": "X8V_4nSzqtmi",
        "colab": {
          "base_uri": "https://localhost:8080/"
        },
        "outputId": "884063d2-13b8-44e7-8cac-4aa9deecc200"
      },
      "outputs": [
        {
          "output_type": "stream",
          "name": "stdout",
          "text": [
            "Lot de 100 vecteurs uploadé avec succès dans Pinecone\n",
            "Lot de 100 vecteurs uploadé avec succès dans Pinecone\n",
            "Lot de 100 vecteurs uploadé avec succès dans Pinecone\n",
            "Lot de 79 vecteurs uploadé avec succès dans Pinecone\n",
            "Toutes les données ont été uploadées avec succès dans Pinecone\n"
          ]
        }
      ],
      "source": [
        "# Fonction pour diviser les vecteurs en lots\n",
        "def chunks(lst, n):\n",
        "    for i in range(0, len(lst), n):\n",
        "        yield lst[i:i + n]\n",
        "\n",
        "# Taille de lot recommandée pour rester en dessous de 4 Mo\n",
        "batch_size = 100\n",
        "\n",
        "# Uploader les vecteurs dans Pinecone par lots\n",
        "for batch in chunks(vectors, batch_size):\n",
        "    index.upsert(batch)\n",
        "    print(f\"Lot de {len(batch)} vecteurs uploadé avec succès dans Pinecone\")\n",
        "\n",
        "print(\"Toutes les données ont été uploadées avec succès dans Pinecone\")"
      ]
    },
    {
      "cell_type": "code",
      "execution_count": null,
      "metadata": {
        "colab": {
          "base_uri": "https://localhost:8080/"
        },
        "id": "crIcL1fWsZRP",
        "outputId": "22b688a8-2f7b-4771-f8da-b9e263442d29"
      },
      "outputs": [
        {
          "output_type": "stream",
          "name": "stdout",
          "text": [
            "Lot de 100 vecteurs uploadé avec succès dans Pinecone\n",
            "Lot de 100 vecteurs uploadé avec succès dans Pinecone\n",
            "Lot de 100 vecteurs uploadé avec succès dans Pinecone\n",
            "Lot de 79 vecteurs uploadé avec succès dans Pinecone\n",
            "Toutes les données ont été uploadées avec succès dans Pinecone\n"
          ]
        }
      ],
      "source": [
        "vectors = []\n",
        "for idx, row in data.iterrows():\n",
        "    combined_text = \" \".join([str(row['المبدأ']), str(row['الموضوع']), str(row['التكييف']),\n",
        "                              str(row['تاريخ القرار']), str(row['القسم']), str(row['الغرفة']),\n",
        "                              str(row['رقم القرار'])])\n",
        "    try:\n",
        "        vector = encode_text(combined_text)\n",
        "        metadata = {\n",
        "            'المبدأ': str(row['المبدأ']),\n",
        "            'الموضوع': str(row['الموضوع']),\n",
        "            'التكييف': str(row['التكييف']),\n",
        "            'تاريخ القرار': str(row['تاريخ القرار']),\n",
        "            'القسم': str(row['القسم']),\n",
        "            'الغرفة': str(row['الغرفة']),\n",
        "            'رقم القرار': str(row['رقم القرار'])\n",
        "        }\n",
        "        vectors.append({'id': str(idx), 'values': vector, 'metadata': metadata})\n",
        "        time.sleep(1)  # Pause d'une seconde entre les requêtes pour éviter les limitations de taux\n",
        "    except cohere.error.CohereAPIError as e:\n",
        "        print(f\"Erreur lors de l'encodage du texte à l'index {idx}: {e}\")\n",
        "        break\n",
        "\n",
        "# Fonction pour diviser les vecteurs en lots\n",
        "def chunks(lst, n):\n",
        "    for i in range(0, len(lst), n):\n",
        "        yield lst[i:i + n]\n",
        "\n",
        "# Taille de lot recommandée pour rester en dessous de 4 Mo\n",
        "batch_size = 100\n",
        "\n",
        "# Uploader les vecteurs dans Pinecone par lots\n",
        "for batch in chunks(vectors, batch_size):\n",
        "    index.upsert(vectors=batch)\n",
        "    print(f\"Lot de {len(batch)} vecteurs uploadé avec succès dans Pinecone\")\n",
        "\n",
        "print(\"Toutes les données ont été uploadées avec succès dans Pinecone\")"
      ]
    }
  ],
  "metadata": {
    "colab": {
      "provenance": []
    },
    "kernelspec": {
      "display_name": "Python 3",
      "name": "python3"
    },
    "language_info": {
      "name": "python"
    }
  },
  "nbformat": 4,
  "nbformat_minor": 0
}